{
 "cells": [
  {
   "cell_type": "markdown",
   "metadata": {},
   "source": [
    "# 2557번"
   ]
  },
  {
   "cell_type": "code",
   "execution_count": 1,
   "metadata": {},
   "outputs": [
    {
     "name": "stdout",
     "output_type": "stream",
     "text": [
      "Hello World!\n"
     ]
    }
   ],
   "source": [
    "print('Hello World!')"
   ]
  },
  {
   "cell_type": "markdown",
   "metadata": {},
   "source": [
    "# 10718"
   ]
  },
  {
   "cell_type": "code",
   "execution_count": 3,
   "metadata": {},
   "outputs": [
    {
     "name": "stdout",
     "output_type": "stream",
     "text": [
      "강한친구 대한육군 \n",
      "강한친구 대한육군 \n",
      "\n"
     ]
    }
   ],
   "source": [
    "print('강한친구 대한육군 \\n' * 2)"
   ]
  },
  {
   "cell_type": "markdown",
   "metadata": {},
   "source": [
    "# 10171"
   ]
  },
  {
   "cell_type": "code",
   "execution_count": 16,
   "metadata": {},
   "outputs": [
    {
     "name": "stdout",
     "output_type": "stream",
     "text": [
      "\\\t/\\\n",
      "  )  ( ')\n",
      " (  /  )\n",
      "  \\(__)/\n",
      "\n",
      "\\    /\\\n",
      " )  ( ')\n",
      "(  /  )\n",
      " \\(__)|\n",
      "\n"
     ]
    }
   ],
   "source": [
    "# print('\\\\\\t/\\\\\\n  )  ( \\')\\n (  /  )\\n  \\\\(__)/')\n",
    "\n",
    "cat = r'''\n",
    "\\    /\\\n",
    " )  ( ')\n",
    "(  /  )\n",
    " \\(__)|\n",
    "'''\n",
    "     \n",
    "# r은 row의 약자. \\도 보이는 그대로 읽어들인다.\n",
    "\n",
    "print(cat)"
   ]
  },
  {
   "cell_type": "markdown",
   "metadata": {},
   "source": [
    "# 1000"
   ]
  },
  {
   "cell_type": "code",
   "execution_count": 31,
   "metadata": {},
   "outputs": [
    {
     "name": "stdout",
     "output_type": "stream",
     "text": [
      "1 2\n",
      "3\n"
     ]
    }
   ],
   "source": [
    "numbers = input()\n",
    "inputs = list(map(int, numbers.split()))\n",
    "# total = inputs[0] + inputs[1]\n",
    "\n",
    "# total = 0\n",
    "# for i in inputs:\n",
    "#     total += i\n",
    "\n",
    "total = sum(inputs)\n",
    "\n",
    "print(total)\n",
    "# .split()은 문자열에 적용할 수 있는 함수. defalt : 띄어쓰기를 기준으로 나눈다.\n",
    "# map은 한 번에 바꿀 수 있게 하는 것.\n",
    "# map은 map object를 return 해준다.\n",
    "# 그렇기 때문에 list화를 해주어야 한다.\n"
   ]
  },
  {
   "cell_type": "code",
   "execution_count": 35,
   "metadata": {},
   "outputs": [
    {
     "name": "stdout",
     "output_type": "stream",
     "text": [
      "['1', '2', '3', '4', '5', '6']\n"
     ]
    }
   ],
   "source": [
    "numbers = '1, 2, 3, 4, 5, 6'\n",
    "inputs = numbers.split(', ')\n",
    "print(inputs)"
   ]
  },
  {
   "cell_type": "markdown",
   "metadata": {},
   "source": [
    "# 10869"
   ]
  },
  {
   "cell_type": "code",
   "execution_count": 45,
   "metadata": {},
   "outputs": [
    {
     "name": "stdout",
     "output_type": "stream",
     "text": [
      "1 3\n",
      "4\n",
      "-2\n",
      "3\n",
      "0\n",
      "1\n"
     ]
    }
   ],
   "source": [
    "numbers = input()\n",
    "inputs = list(map(int, numbers.split()))\n",
    "a = inputs[0]\n",
    "b = inputs[1]\n",
    "print(a+b)\n",
    "print(a-b)\n",
    "print(a*b)\n",
    "print(a//b)\n",
    "print(a%b)"
   ]
  },
  {
   "cell_type": "markdown",
   "metadata": {},
   "source": [
    "# 2588"
   ]
  },
  {
   "cell_type": "code",
   "execution_count": 4,
   "metadata": {},
   "outputs": [
    {
     "name": "stdout",
     "output_type": "stream",
     "text": [
      "472\n",
      "385\n",
      "2360\n",
      "3776\n",
      "1416\n",
      "181720\n"
     ]
    }
   ],
   "source": [
    "n1 = input()\n",
    "n2 = input()\n",
    "num1 = int(n1)\n",
    "num2 = int(n2)\n",
    "num2_list = list(map(int, list(n2)))\n",
    "\n",
    "loc = 1\n",
    "total = 0\n",
    "for num2_i in num2_list[::-1]:\n",
    "    result = num1 * num2_i\n",
    "    print(result)\n",
    "    result2 = num1 * num2_i*loc\n",
    "    loc = loc*10\n",
    "    total += result2\n",
    "print(total)\n",
    "\n",
    "\n",
    "\n",
    "# print(num1*num2)"
   ]
  }
 ],
 "metadata": {
  "kernelspec": {
   "display_name": "Python 3",
   "language": "python",
   "name": "python3"
  },
  "language_info": {
   "codemirror_mode": {
    "name": "ipython",
    "version": 3
   },
   "file_extension": ".py",
   "mimetype": "text/x-python",
   "name": "python",
   "nbconvert_exporter": "python",
   "pygments_lexer": "ipython3",
   "version": "3.7.3"
  }
 },
 "nbformat": 4,
 "nbformat_minor": 2
}
